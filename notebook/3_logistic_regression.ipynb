{
 "cells": [
  {
   "cell_type": "code",
   "execution_count": 2,
   "metadata": {
    "collapsed": false
   },
   "outputs": [
    {
     "name": "stdout",
     "output_type": "stream",
     "text": [
      "Extracting /tmp/data/train-images-idx3-ubyte.gz\n",
      "Extracting /tmp/data/train-labels-idx1-ubyte.gz\n",
      "Extracting /tmp/data/t10k-images-idx3-ubyte.gz\n",
      "Extracting /tmp/data/t10k-labels-idx1-ubyte.gz\n"
     ]
    }
   ],
   "source": [
    "import tensorflow as tf\n",
    "\n",
    "from tensorflow.examples.tutorials.mnist import input_data\n",
    "mnist = input_data.read_data_sets(\"/tmp/data/\", one_hot=True)"
   ]
  },
  {
   "cell_type": "code",
   "execution_count": 8,
   "metadata": {
    "collapsed": false
   },
   "outputs": [],
   "source": [
    "learning_rate = 0.01\n",
    "training_epochs = 25\n",
    "batch_size = 100\n",
    "display_step = 1\n",
    "\n",
    "X = tf.placeholder(tf.float32, [None, 784])\n",
    "Y = tf.placeholder(tf.float32, [None, 10])\n",
    "\n",
    "W = tf.Variable(tf.zeros([784, 10]))\n",
    "b = tf.Variable(tf.zeros([10]))\n",
    "\n",
    "pred = tf.nn.softmax(tf.matmul(X, W) + b)\n",
    "\n",
    "cost = tf.reduce_mean(-tf.reduce_sum(Y*tf.log(pred), reduction_indices=1))\n",
    "\n",
    "optimizer = tf.train.GradientDescentOptimizer(learning_rate).minimize(cost)\n",
    "\n",
    "init = tf.initialize_all_variables()"
   ]
  },
  {
   "cell_type": "code",
   "execution_count": 12,
   "metadata": {
    "collapsed": false
   },
   "outputs": [
    {
     "name": "stdout",
     "output_type": "stream",
     "text": [
      "epoch : 0001  cost : 1.184190779\n",
      "epoch : 0002  cost : 0.665489294\n",
      "epoch : 0003  cost : 0.552929472\n",
      "epoch : 0004  cost : 0.498741347\n",
      "epoch : 0005  cost : 0.465565630\n",
      "epoch : 0006  cost : 0.442590222\n",
      "epoch : 0007  cost : 0.425520956\n",
      "epoch : 0008  cost : 0.412237758\n",
      "epoch : 0009  cost : 0.401422341\n",
      "epoch : 0010  cost : 0.392443316\n",
      "epoch : 0011  cost : 0.384804378\n",
      "epoch : 0012  cost : 0.378208909\n",
      "epoch : 0013  cost : 0.372414908\n",
      "epoch : 0014  cost : 0.367252725\n",
      "epoch : 0015  cost : 0.362749986\n",
      "epoch : 0016  cost : 0.358565062\n",
      "epoch : 0017  cost : 0.354910657\n",
      "epoch : 0018  cost : 0.351458197\n",
      "epoch : 0019  cost : 0.348318752\n",
      "epoch : 0020  cost : 0.345408843\n",
      "epoch : 0021  cost : 0.342732383\n",
      "epoch : 0022  cost : 0.340283495\n",
      "epoch : 0023  cost : 0.337931130\n",
      "epoch : 0024  cost : 0.335729641\n",
      "epoch : 0025  cost : 0.333681298\n",
      "Optimization Finished!\n",
      "Accuracy :  0.888333\n"
     ]
    }
   ],
   "source": [
    "with tf.Session() as sess:\n",
    "    sess.run(init)\n",
    "    \n",
    "    for epoch in range(training_epochs):\n",
    "        avg_cost = 0.\n",
    "        total_batch = int(mnist.train.num_examples/batch_size)\n",
    "        \n",
    "        for i in range(total_batch):\n",
    "            batch_X, batch_Y = mnist.train.next_batch(batch_size)\n",
    "            \n",
    "            _, c = sess.run([optimizer, cost], feed_dict={X:batch_X, Y:batch_Y})\n",
    "            \n",
    "            avg_cost += c/total_batch\n",
    "        \n",
    "        if (epoch+1) % display_step == 0:\n",
    "            print(\"epoch : \"+'%04d'%(epoch+1), \" cost : \"+ \"{:.9f}\".format(avg_cost))\n",
    "\n",
    "    print(\"Optimization Finished!\")\n",
    "    \n",
    "    correct_prediction = tf.equal(tf.argmax(pred, 1), tf.argmax(Y, 1))\n",
    "    \n",
    "    accuracy = tf.reduce_mean(tf.cast(correct_prediction, tf.float32))\n",
    "    print(\"Accuracy : \", accuracy.eval({X:mnist.test.images[:3000], Y: mnist.test.labels[:3000]}))\n",
    "    "
   ]
  },
  {
   "cell_type": "code",
   "execution_count": null,
   "metadata": {
    "collapsed": true
   },
   "outputs": [],
   "source": []
  }
 ],
 "metadata": {
  "kernelspec": {
   "display_name": "Python 3",
   "language": "python",
   "name": "python3"
  },
  "language_info": {
   "codemirror_mode": {
    "name": "ipython",
    "version": 3
   },
   "file_extension": ".py",
   "mimetype": "text/x-python",
   "name": "python",
   "nbconvert_exporter": "python",
   "pygments_lexer": "ipython3",
   "version": "3.5.2"
  }
 },
 "nbformat": 4,
 "nbformat_minor": 1
}
