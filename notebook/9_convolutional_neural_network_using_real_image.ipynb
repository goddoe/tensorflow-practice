{
 "cells": [
  {
   "cell_type": "code",
   "execution_count": 1,
   "metadata": {
    "collapsed": false
   },
   "outputs": [],
   "source": [
    "import tensorflow as tf\n",
    "from PIL import Image\n",
    "import numpy as np"
   ]
  },
  {
   "cell_type": "code",
   "execution_count": 2,
   "metadata": {
    "collapsed": false
   },
   "outputs": [],
   "source": [
    "# variables\n",
    "\n",
    "img_size = 28\n",
    "\n",
    "pos_num = 100\n",
    "neg_num = 100\n",
    "\n",
    "train_x = []\n",
    "train_y = []\n",
    "\n",
    "for i in range(pos_num):\n",
    "    with Image.open(\"/Users/sungju/Dropbox/data/pos_%d.jpg\"%(i)) as img:\n",
    "        img = img.resize((img_size,img_size))\n",
    "        img = np.array(list(img.getdata()))\n",
    "        img = img.reshape((img_size,img_size,3))\n",
    "        train_x.append(img)\n",
    "        train_y.append([0, 1])\n",
    "\n",
    "for i in range(neg_num):\n",
    "    with Image.open(\"/Users/sungju/Dropbox/data/neg_%d.jpg\"%(i)) as img:\n",
    "        img = img.resize((img_size,img_size))\n",
    "        img = np.array(list(img.getdata()))\n",
    "        img = img.reshape((img_size,img_size,3))\n",
    "        train_x.append(img)\n",
    "        train_y.append([1, 0])\n",
    "\n",
    "train_x = np.array(train_x)\n",
    "train_y = np.array(train_y)\n",
    "\n",
    "perm = np.random.permutation(len(train_y))\n",
    "\n",
    "train_x = train_x[perm]\n",
    "train_y = train_y[perm]\n"
   ]
  },
  {
   "cell_type": "code",
   "execution_count": 3,
   "metadata": {
    "collapsed": false
   },
   "outputs": [
    {
     "data": {
      "text/plain": [
       "(200, 28, 28, 3)"
      ]
     },
     "execution_count": 3,
     "metadata": {},
     "output_type": "execute_result"
    }
   ],
   "source": [
    "train_x.shape"
   ]
  },
  {
   "cell_type": "code",
   "execution_count": 4,
   "metadata": {
    "collapsed": false
   },
   "outputs": [
    {
     "data": {
      "text/plain": [
       "(200, 2)"
      ]
     },
     "execution_count": 4,
     "metadata": {},
     "output_type": "execute_result"
    }
   ],
   "source": [
    "train_y.shape"
   ]
  },
  {
   "cell_type": "code",
   "execution_count": 5,
   "metadata": {
    "collapsed": true
   },
   "outputs": [],
   "source": [
    "learning_rate = 0.01\n",
    "epochs = 10000\n",
    "batch_size = 8\n",
    "display_step = 10\n",
    "\n",
    "n_channel = 3\n",
    "n_classes = 2\n",
    "\n",
    "dropout = 0.75\n",
    "\n",
    "X = tf.placeholder(tf.float32, [None, img_size, img_size, n_channel])\n",
    "Y = tf.placeholder(tf.float32, [None, n_classes])\n",
    "keep_prob = tf.placeholder(tf.float32)"
   ]
  },
  {
   "cell_type": "code",
   "execution_count": 6,
   "metadata": {
    "collapsed": false
   },
   "outputs": [],
   "source": [
    "def conv2d(X, W, b, strides=1):\n",
    "    X = tf.nn.conv2d(X,W,strides=[1,strides, strides,1],padding='SAME')\n",
    "    X = tf.nn.bias_add(X,b)\n",
    "    return tf.nn.relu(X)\n",
    "\n",
    "def maxpool2d(X, k =2):\n",
    "    # ksize is window!, strides is just strides!\n",
    "    return tf.nn.max_pool(X,ksize = [1,k,k,1],strides=[1,k,k,1], padding='SAME')\n",
    "\n",
    "def conv_net(X, weight, biases, dropout):\n",
    "    X = tf.reshape(X, shape=[-1, img_size, img_size, n_channel])\n",
    "    \n",
    "    conv1 = conv2d(X, weights['wc1'], biases['bc1'])\n",
    "    conv1 = maxpool2d(conv1,k=2)\n",
    "    \n",
    "    conv2 = conv2d(conv1, weights['wc2'], biases['bc2'])\n",
    "    conv2 = maxpool2d(conv2, k=2)\n",
    "    \n",
    "    fc1 = tf.reshape(conv2, [-1, weights['wd1'].get_shape().as_list()[0]])\n",
    "    print(weights['wd1'].get_shape().as_list()[0])\n",
    "    fc1 = tf.add(tf.matmul(fc1, weights['wd1']), biases['bd1'])\n",
    "    fc1 = tf.nn.relu(fc1)\n",
    "    \n",
    "    fc1 = tf.nn.dropout(fc1, dropout)\n",
    "    \n",
    "    out = tf.add(tf.matmul(fc1, weights['out']), biases['out'])\n",
    "    return out"
   ]
  },
  {
   "cell_type": "code",
   "execution_count": 7,
   "metadata": {
    "collapsed": false
   },
   "outputs": [],
   "source": [
    "weights = {\n",
    "    # 5x5 conv, 1 input, 32 outputs\n",
    "    # I think '1 input' means the channel's dimension is one\n",
    "    'wc1': tf.Variable(tf.random_normal([5,5,3,32])),\n",
    "    'wc2': tf.Variable(tf.random_normal([5,5,32,64])),\n",
    "    'wd1': tf.Variable(tf.random_normal([7*7*64, 1024])),\n",
    "    'out': tf.Variable(tf.random_normal([1024, n_classes]))\n",
    "}\n",
    "\n",
    "biases = {\n",
    "    'bc1': tf.Variable(tf.random_normal([32])),\n",
    "    'bc2': tf.Variable(tf.random_normal([64])),\n",
    "    'bd1': tf.Variable(tf.random_normal([1024])),\n",
    "    'out': tf.Variable(tf.random_normal([n_classes]))\n",
    "}"
   ]
  },
  {
   "cell_type": "code",
   "execution_count": 8,
   "metadata": {
    "collapsed": false,
    "scrolled": true
   },
   "outputs": [
    {
     "name": "stdout",
     "output_type": "stream",
     "text": [
      "3136\n"
     ]
    }
   ],
   "source": [
    "pred = conv_net(X,weights, biases, keep_prob)\n",
    "\n",
    "cost = tf.reduce_mean(tf.nn.softmax_cross_entropy_with_logits(pred,Y))\n",
    "optimizer = tf.train.AdamOptimizer(learning_rate).minimize(cost)\n",
    "\n",
    "correct_pred = tf.equal(tf.argmax(pred,1), tf.argmax(Y,1))\n",
    "accuracy = tf.reduce_mean(tf.cast(correct_pred, tf.float32))\n",
    "\n",
    "init = tf.initialize_all_variables()"
   ]
  },
  {
   "cell_type": "code",
   "execution_count": 9,
   "metadata": {
    "collapsed": false,
    "scrolled": true
   },
   "outputs": [
    {
     "name": "stdout",
     "output_type": "stream",
     "text": [
      "Iter 80, Minibatch Loss= 0.000000, Training Accuracy= 1.00000\n",
      "Iter 160, Minibatch Loss= 0.000000, Training Accuracy= 1.00000\n",
      "Iter 240, Minibatch Loss= 0.000000, Training Accuracy= 1.00000\n",
      "Iter 320, Minibatch Loss= 0.000000, Training Accuracy= 1.00000\n",
      "Iter 400, Minibatch Loss= 0.000000, Training Accuracy= 1.00000\n",
      "Iter 480, Minibatch Loss= 0.000000, Training Accuracy= 1.00000\n",
      "Iter 560, Minibatch Loss= 0.000000, Training Accuracy= 1.00000\n",
      "Iter 640, Minibatch Loss= 0.000000, Training Accuracy= 1.00000\n",
      "Iter 720, Minibatch Loss= 0.000000, Training Accuracy= 1.00000\n",
      "Iter 800, Minibatch Loss= 0.000000, Training Accuracy= 1.00000\n",
      "Iter 880, Minibatch Loss= 0.000000, Training Accuracy= 1.00000\n",
      "Iter 960, Minibatch Loss= 0.000000, Training Accuracy= 1.00000\n",
      "Iter 1040, Minibatch Loss= 0.000000, Training Accuracy= 1.00000\n",
      "Iter 1120, Minibatch Loss= 0.000000, Training Accuracy= 1.00000\n",
      "Iter 1200, Minibatch Loss= 0.000000, Training Accuracy= 1.00000\n",
      "Iter 1280, Minibatch Loss= 0.000000, Training Accuracy= 1.00000\n",
      "Iter 1360, Minibatch Loss= 0.000000, Training Accuracy= 1.00000\n",
      "Iter 1440, Minibatch Loss= 0.000000, Training Accuracy= 1.00000\n",
      "Iter 1520, Minibatch Loss= 0.000000, Training Accuracy= 1.00000\n",
      "Iter 1600, Minibatch Loss= 0.000000, Training Accuracy= 1.00000\n",
      "Iter 1680, Minibatch Loss= 0.000000, Training Accuracy= 1.00000\n",
      "Iter 1760, Minibatch Loss= 0.000000, Training Accuracy= 1.00000\n",
      "Iter 1840, Minibatch Loss= 0.000000, Training Accuracy= 1.00000\n",
      "Iter 1920, Minibatch Loss= 0.000000, Training Accuracy= 1.00000\n",
      "Iter 2000, Minibatch Loss= 0.000000, Training Accuracy= 1.00000\n",
      "Iter 2080, Minibatch Loss= 0.000000, Training Accuracy= 1.00000\n",
      "Iter 2160, Minibatch Loss= 0.000000, Training Accuracy= 1.00000\n",
      "Iter 2240, Minibatch Loss= 0.000000, Training Accuracy= 1.00000\n",
      "Iter 2320, Minibatch Loss= 0.000000, Training Accuracy= 1.00000\n",
      "Iter 2400, Minibatch Loss= 0.000000, Training Accuracy= 1.00000\n",
      "Iter 2480, Minibatch Loss= 0.000000, Training Accuracy= 1.00000\n",
      "Iter 2560, Minibatch Loss= 0.000000, Training Accuracy= 1.00000\n",
      "Iter 2640, Minibatch Loss= 0.000000, Training Accuracy= 1.00000\n",
      "Iter 2720, Minibatch Loss= 0.000000, Training Accuracy= 1.00000\n",
      "Iter 2800, Minibatch Loss= 0.000000, Training Accuracy= 1.00000\n",
      "Iter 2880, Minibatch Loss= 0.000000, Training Accuracy= 1.00000\n",
      "Iter 2960, Minibatch Loss= 0.000000, Training Accuracy= 1.00000\n",
      "Iter 3040, Minibatch Loss= 0.000000, Training Accuracy= 1.00000\n",
      "Iter 3120, Minibatch Loss= 0.000000, Training Accuracy= 1.00000\n",
      "Iter 3200, Minibatch Loss= 0.000000, Training Accuracy= 1.00000\n",
      "Iter 3280, Minibatch Loss= 0.000000, Training Accuracy= 1.00000\n",
      "Iter 3360, Minibatch Loss= 0.000000, Training Accuracy= 1.00000\n",
      "Iter 3440, Minibatch Loss= 0.000000, Training Accuracy= 1.00000\n",
      "Iter 3520, Minibatch Loss= 0.000000, Training Accuracy= 1.00000\n",
      "Iter 3600, Minibatch Loss= 0.000000, Training Accuracy= 1.00000\n",
      "Iter 3680, Minibatch Loss= 0.000000, Training Accuracy= 1.00000\n",
      "Iter 3760, Minibatch Loss= 0.000000, Training Accuracy= 1.00000\n",
      "Iter 3840, Minibatch Loss= 0.000000, Training Accuracy= 1.00000\n",
      "Iter 3920, Minibatch Loss= 0.000000, Training Accuracy= 1.00000\n",
      "Iter 4000, Minibatch Loss= 0.000000, Training Accuracy= 1.00000\n",
      "Iter 4080, Minibatch Loss= 0.000000, Training Accuracy= 1.00000\n",
      "Iter 4160, Minibatch Loss= 0.000000, Training Accuracy= 1.00000\n",
      "Iter 4240, Minibatch Loss= 0.000000, Training Accuracy= 1.00000\n",
      "Iter 4320, Minibatch Loss= 0.000000, Training Accuracy= 1.00000\n",
      "Iter 4400, Minibatch Loss= 0.000000, Training Accuracy= 1.00000\n",
      "Iter 4480, Minibatch Loss= 0.000000, Training Accuracy= 1.00000\n",
      "Iter 4560, Minibatch Loss= 0.000000, Training Accuracy= 1.00000\n",
      "Iter 4640, Minibatch Loss= 0.000000, Training Accuracy= 1.00000\n",
      "Iter 4720, Minibatch Loss= 0.000000, Training Accuracy= 1.00000\n",
      "Iter 4800, Minibatch Loss= 0.000000, Training Accuracy= 1.00000\n",
      "Iter 4880, Minibatch Loss= 0.000000, Training Accuracy= 1.00000\n",
      "Iter 4960, Minibatch Loss= 0.000000, Training Accuracy= 1.00000\n",
      "Iter 5040, Minibatch Loss= 0.000000, Training Accuracy= 1.00000\n",
      "Iter 5120, Minibatch Loss= 0.000000, Training Accuracy= 1.00000\n",
      "Iter 5200, Minibatch Loss= 0.000000, Training Accuracy= 1.00000\n",
      "Iter 5280, Minibatch Loss= 0.000000, Training Accuracy= 1.00000\n",
      "Iter 5360, Minibatch Loss= 0.000000, Training Accuracy= 1.00000\n",
      "Iter 5440, Minibatch Loss= 0.000000, Training Accuracy= 1.00000\n",
      "Iter 5520, Minibatch Loss= 0.000000, Training Accuracy= 1.00000\n",
      "Iter 5600, Minibatch Loss= 0.000000, Training Accuracy= 1.00000\n",
      "Iter 5680, Minibatch Loss= 0.000000, Training Accuracy= 1.00000\n",
      "Iter 5760, Minibatch Loss= 0.000000, Training Accuracy= 1.00000\n",
      "Iter 5840, Minibatch Loss= 0.000000, Training Accuracy= 1.00000\n",
      "Iter 5920, Minibatch Loss= 0.000000, Training Accuracy= 1.00000\n",
      "Iter 6000, Minibatch Loss= 0.000000, Training Accuracy= 1.00000\n",
      "Iter 6080, Minibatch Loss= 0.000000, Training Accuracy= 1.00000\n",
      "Iter 6160, Minibatch Loss= 0.000000, Training Accuracy= 1.00000\n",
      "Iter 6240, Minibatch Loss= 0.000000, Training Accuracy= 1.00000\n",
      "Iter 6320, Minibatch Loss= 0.000000, Training Accuracy= 1.00000\n",
      "Iter 6400, Minibatch Loss= 0.000000, Training Accuracy= 1.00000\n",
      "Iter 6480, Minibatch Loss= 0.000000, Training Accuracy= 1.00000\n",
      "Iter 6560, Minibatch Loss= 0.000000, Training Accuracy= 1.00000\n",
      "Iter 6640, Minibatch Loss= 0.000000, Training Accuracy= 1.00000\n",
      "Iter 6720, Minibatch Loss= 0.000000, Training Accuracy= 1.00000\n",
      "Iter 6800, Minibatch Loss= 0.000000, Training Accuracy= 1.00000\n",
      "Iter 6880, Minibatch Loss= 0.000000, Training Accuracy= 1.00000\n",
      "Iter 6960, Minibatch Loss= 0.000000, Training Accuracy= 1.00000\n",
      "Iter 7040, Minibatch Loss= 0.000000, Training Accuracy= 1.00000\n",
      "Iter 7120, Minibatch Loss= 0.000000, Training Accuracy= 1.00000\n",
      "Iter 7200, Minibatch Loss= 0.000000, Training Accuracy= 1.00000\n",
      "Iter 7280, Minibatch Loss= 0.000000, Training Accuracy= 1.00000\n",
      "Iter 7360, Minibatch Loss= 0.000000, Training Accuracy= 1.00000\n",
      "Iter 7440, Minibatch Loss= 0.000000, Training Accuracy= 1.00000\n",
      "Iter 7520, Minibatch Loss= 0.000000, Training Accuracy= 1.00000\n",
      "Iter 7600, Minibatch Loss= 0.000000, Training Accuracy= 1.00000\n",
      "Iter 7680, Minibatch Loss= 0.000000, Training Accuracy= 1.00000\n",
      "Iter 7760, Minibatch Loss= 0.000000, Training Accuracy= 1.00000\n",
      "Iter 7840, Minibatch Loss= 0.000000, Training Accuracy= 1.00000\n",
      "Iter 7920, Minibatch Loss= 0.000000, Training Accuracy= 1.00000\n",
      "Iter 8000, Minibatch Loss= 0.000000, Training Accuracy= 1.00000\n",
      "Iter 8080, Minibatch Loss= 0.000000, Training Accuracy= 1.00000\n",
      "Iter 8160, Minibatch Loss= 0.000000, Training Accuracy= 1.00000\n",
      "Iter 8240, Minibatch Loss= 0.000000, Training Accuracy= 1.00000\n",
      "Iter 8320, Minibatch Loss= 0.000000, Training Accuracy= 1.00000\n",
      "Iter 8400, Minibatch Loss= 0.000000, Training Accuracy= 1.00000\n",
      "Iter 8480, Minibatch Loss= 0.000000, Training Accuracy= 1.00000\n",
      "Iter 8560, Minibatch Loss= 0.000000, Training Accuracy= 1.00000\n",
      "Iter 8640, Minibatch Loss= 0.000000, Training Accuracy= 1.00000\n",
      "Iter 8720, Minibatch Loss= 0.000000, Training Accuracy= 1.00000\n",
      "Iter 8800, Minibatch Loss= 0.000000, Training Accuracy= 1.00000\n",
      "Iter 8880, Minibatch Loss= 0.000000, Training Accuracy= 1.00000\n",
      "Iter 8960, Minibatch Loss= 0.000000, Training Accuracy= 1.00000\n",
      "Iter 9040, Minibatch Loss= 0.000000, Training Accuracy= 1.00000\n",
      "Iter 9120, Minibatch Loss= 0.000000, Training Accuracy= 1.00000\n",
      "Iter 9200, Minibatch Loss= 0.000000, Training Accuracy= 1.00000\n",
      "Iter 9280, Minibatch Loss= 0.000000, Training Accuracy= 1.00000\n",
      "Iter 9360, Minibatch Loss= 0.000000, Training Accuracy= 1.00000\n",
      "Iter 9440, Minibatch Loss= 0.000000, Training Accuracy= 1.00000\n",
      "Iter 9520, Minibatch Loss= 0.000000, Training Accuracy= 1.00000\n",
      "Iter 9600, Minibatch Loss= 0.000000, Training Accuracy= 1.00000\n",
      "Iter 9680, Minibatch Loss= 0.000000, Training Accuracy= 1.00000\n",
      "Iter 9760, Minibatch Loss= 0.000000, Training Accuracy= 1.00000\n",
      "Iter 9840, Minibatch Loss= 0.000000, Training Accuracy= 1.00000\n",
      "Iter 9920, Minibatch Loss= 0.000000, Training Accuracy= 1.00000\n",
      "Optimization Finished!\n",
      "Testing Accuracy1.0\n"
     ]
    }
   ],
   "source": [
    "with tf.Session() as sess:\n",
    "    sess.run(init)\n",
    "    step = 1\n",
    "    \n",
    "    while step* batch_size < epochs:\n",
    "        \n",
    "        offset = (step * batch_size) % (train_y.shape[0] - batch_size)\n",
    "        batch_x = train_x[offset:(offset + batch_size), :, :, :]\n",
    "        batch_y = train_y[offset:(offset + batch_size), :]\n",
    "        \n",
    "        sess.run(optimizer, feed_dict={X:batch_x, Y:batch_y, keep_prob:dropout})\n",
    "        \n",
    "        if step% display_step == 0:\n",
    "            loss, acc = sess.run([cost,accuracy], feed_dict={X:batch_x, Y:batch_y,\n",
    "                                                               keep_prob: 1.})\n",
    "            \n",
    "            print( \"Iter \" + str(step*batch_size) + \", Minibatch Loss= \" + \\\n",
    "                  \"{:.6f}\".format(loss) + \", Training Accuracy= \" + \\\n",
    "                  \"{:.5f}\".format(acc))\n",
    "            \n",
    "        step +=1\n",
    "        \n",
    "    print(\"Optimization Finished!\")\n",
    "    print(\"Testing Accuracy\"+ str(sess.run(accuracy, feed_dict={X: train_x,\n",
    "                                                                    Y: train_y,\n",
    "                                                                      keep_prob:1.})))"
   ]
  },
  {
   "cell_type": "code",
   "execution_count": null,
   "metadata": {
    "collapsed": true
   },
   "outputs": [],
   "source": []
  }
 ],
 "metadata": {
  "kernelspec": {
   "display_name": "Python 3",
   "language": "python",
   "name": "python3"
  },
  "language_info": {
   "codemirror_mode": {
    "name": "ipython",
    "version": 3
   },
   "file_extension": ".py",
   "mimetype": "text/x-python",
   "name": "python",
   "nbconvert_exporter": "python",
   "pygments_lexer": "ipython3",
   "version": "3.5.2"
  }
 },
 "nbformat": 4,
 "nbformat_minor": 1
}
