{
 "cells": [
  {
   "cell_type": "code",
   "execution_count": 11,
   "metadata": {
    "collapsed": false
   },
   "outputs": [],
   "source": [
    "import tensorflow as tf\n",
    "import numpy as np\n",
    "import matplotlib.pyplot as plt\n",
    "%matplotlib inline\n",
    "rng = np.random"
   ]
  },
  {
   "cell_type": "code",
   "execution_count": 3,
   "metadata": {
    "collapsed": true
   },
   "outputs": [],
   "source": [
    "learning_rate = 0.01\n",
    "training_epochs = 1000\n",
    "display_step = 50"
   ]
  },
  {
   "cell_type": "code",
   "execution_count": 4,
   "metadata": {
    "collapsed": false
   },
   "outputs": [],
   "source": [
    "train_X = np.asarray([3.3,4.4,5.5,6.71,6.93,4.168,9.779,6.182,7.59,2.167,\n",
    "                         7.042,10.791,5.313,7.997,5.654,9.27,3.1])\n",
    "train_Y = np.asarray([1.7,2.76,2.09,3.19,1.694,1.573,3.366,2.596,2.53,1.221,\n",
    "                         2.827,3.465,1.65,2.904,2.42,2.94,1.3])\n",
    "n_samples = train_X.shape[0]"
   ]
  },
  {
   "cell_type": "code",
   "execution_count": 5,
   "metadata": {
    "collapsed": true
   },
   "outputs": [],
   "source": [
    "X = tf.placeholder(\"float\")\n",
    "Y = tf.placeholder(\"float\")\n",
    "\n",
    "W = tf.Variable(rng.randn(), name=\"weight\")\n",
    "b = tf.Variable(rng.randn(), name=\"bias\")"
   ]
  },
  {
   "cell_type": "code",
   "execution_count": 6,
   "metadata": {
    "collapsed": true
   },
   "outputs": [],
   "source": [
    "pred = tf.add(tf.mul(X,W), b)"
   ]
  },
  {
   "cell_type": "code",
   "execution_count": 7,
   "metadata": {
    "collapsed": true
   },
   "outputs": [],
   "source": [
    "cost = tf.reduce_sum(tf.pow(pred-Y,2))/(2*n_samples)"
   ]
  },
  {
   "cell_type": "code",
   "execution_count": 8,
   "metadata": {
    "collapsed": true
   },
   "outputs": [],
   "source": [
    "optimizer = tf.train.GradientDescentOptimizer(learning_rate).minimize(cost)"
   ]
  },
  {
   "cell_type": "code",
   "execution_count": 9,
   "metadata": {
    "collapsed": true
   },
   "outputs": [],
   "source": [
    "init = tf.initialize_all_variables()"
   ]
  },
  {
   "cell_type": "code",
   "execution_count": 14,
   "metadata": {
    "collapsed": false,
    "scrolled": false
   },
   "outputs": [
    {
     "name": "stdout",
     "output_type": "stream",
     "text": [
      "epoch: 0050 cost: 0.077336453 W: 0.260212  : 0.725078\n",
      "epoch: 0100 cost: 0.077295668 W: 0.259581  : 0.729621\n",
      "epoch: 0150 cost: 0.077259623 W: 0.258986  : 0.733895\n",
      "epoch: 0200 cost: 0.077227801 W: 0.258428  : 0.737914\n",
      "epoch: 0250 cost: 0.077199712 W: 0.257902  : 0.741695\n",
      "epoch: 0300 cost: 0.077174887 W: 0.257408  : 0.745252\n",
      "epoch: 0350 cost: 0.077152997 W: 0.256943  : 0.748596\n",
      "epoch: 0400 cost: 0.077133626 W: 0.256506  : 0.751741\n",
      "epoch: 0450 cost: 0.077116549 W: 0.256095  : 0.754699\n",
      "epoch: 0500 cost: 0.077101499 W: 0.255708  : 0.757482\n",
      "epoch: 0550 cost: 0.077088214 W: 0.255344  : 0.760099\n",
      "epoch: 0600 cost: 0.077076480 W: 0.255002  : 0.76256\n",
      "epoch: 0650 cost: 0.077066116 W: 0.25468  : 0.764877\n",
      "epoch: 0700 cost: 0.077057004 W: 0.254377  : 0.767053\n",
      "epoch: 0750 cost: 0.077048957 W: 0.254093  : 0.769101\n",
      "epoch: 0800 cost: 0.077041849 W: 0.253825  : 0.771027\n",
      "epoch: 0850 cost: 0.077035606 W: 0.253573  : 0.772839\n",
      "epoch: 0900 cost: 0.077030107 W: 0.253336  : 0.774543\n",
      "epoch: 0950 cost: 0.077025220 W: 0.253113  : 0.776145\n",
      "epoch: 1000 cost: 0.077020951 W: 0.252904  : 0.777653\n",
      "Optimization Finished!\n",
      "Training cost :  0.077021 W: 0.252904  b: 0.777653\n"
     ]
    },
    {
     "data": {
      "image/png": "[encoded data removed]",
      "text/plain": [
       "<matplotlib.figure.Figure at 0x7f0c303d47b8>"
      ]
     },
     "metadata": {},
     "output_type": "display_data"
    }
   ],
   "source": [
    "with tf.Session() as sess:\n",
    "    sess.run(init)\n",
    "    \n",
    "    for epoch in range(training_epochs):\n",
    "        for x, y in zip(train_X, train_Y):\n",
    "            sess.run(optimizer, feed_dict={X:x, Y:y})\n",
    "        \n",
    "        if (epoch+1) % display_step == 0:\n",
    "            c = sess.run(cost,feed_dict={X:train_X, Y:train_Y})\n",
    "            print(\"epoch: \"+ \"%04d\"%(epoch+1) + \" cost: \"+\"{:.9f}\".format(c) +\" W: \"+str(sess.run(W)),\" : \"+str(sess.run(b)))\n",
    "    \n",
    "    print(\"Optimization Finished!\")\n",
    "    training_cost = sess.run(cost, feed_dict={X: train_X, Y: train_Y})\n",
    "    print(\"Training cost : \", str(training_cost)+ \" W: \"+str(sess.run(W)), \" b: \"+str(sess.run(b)))\n",
    "    \n",
    "    plt.plot(train_X, train_Y, 'ro', label =\"original data\")\n",
    "    plt.plot(train_X, sess.run(W)* train_X +sess.run(b), label='Fitted Line')\n",
    "    plt.legend()\n",
    "    plt.show()"
   ]
  },
  {
   "cell_type": "code",
   "execution_count": null,
   "metadata": {
    "collapsed": true
   },
   "outputs": [],
   "source": []
  }
 ],
 "metadata": {
  "kernelspec": {
   "display_name": "Python 3",
   "language": "python",
   "name": "python3"
  },
  "language_info": {
   "codemirror_mode": {
    "name": "ipython",
    "version": 3
   },
   "file_extension": ".py",
   "mimetype": "text/x-python",
   "name": "python",
   "nbconvert_exporter": "python",
   "pygments_lexer": "ipython3",
   "version": "3.5.2"
  }
 },
 "nbformat": 4,
 "nbformat_minor": 1
}
