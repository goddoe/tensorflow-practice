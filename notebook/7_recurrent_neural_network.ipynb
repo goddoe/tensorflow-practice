{
 "cells": [
  {
   "cell_type": "code",
   "execution_count": 1,
   "metadata": {
    "collapsed": false
   },
   "outputs": [
    {
     "name": "stdout",
     "output_type": "stream",
     "text": [
      "Extracting /tmp/data/train-images-idx3-ubyte.gz\n",
      "Extracting /tmp/data/train-labels-idx1-ubyte.gz\n",
      "Extracting /tmp/data/t10k-images-idx3-ubyte.gz\n",
      "Extracting /tmp/data/t10k-labels-idx1-ubyte.gz\n"
     ]
    }
   ],
   "source": [
    "import tensorflow as tf\n",
    "from tensorflow.python.ops import rnn,rnn_cell\n",
    "import numpy as np\n",
    "\n",
    "from tensorflow.examples.tutorials.mnist import input_data\n",
    "mnist = input_data.read_data_sets(\"/tmp/data/\", one_hot=True)"
   ]
  },
  {
   "cell_type": "code",
   "execution_count": 2,
   "metadata": {
    "collapsed": true
   },
   "outputs": [],
   "source": [
    "learning_rate = 0.001\n",
    "epochs = 100000\n",
    "batch_size = 128\n",
    "display_step = 10\n",
    "\n",
    "n_input = 28\n",
    "n_steps = 28\n",
    "n_hidden = 128\n",
    "n_classes = 10\n",
    "\n",
    "X = tf.placeholder(tf.float32, [None, n_steps, n_input])\n",
    "Y = tf.placeholder(tf.float32, [None, n_classes])"
   ]
  },
  {
   "cell_type": "code",
   "execution_count": 3,
   "metadata": {
    "collapsed": true
   },
   "outputs": [],
   "source": [
    "weights = {\n",
    "    'out' : tf.Variable(tf.random_normal([n_hidden, n_classes]))\n",
    "}\n",
    "biases = {\n",
    "    'out' : tf.Variable(tf.random_normal([n_classes])) \n",
    "}"
   ]
  },
  {
   "cell_type": "code",
   "execution_count": 4,
   "metadata": {
    "collapsed": false
   },
   "outputs": [],
   "source": [
    "def RNN(X, weights, biases):\n",
    "    X = tf.transpose(X, [1,0,2])\n",
    "    X = tf.reshape(X, [-1, n_input])\n",
    "    X = tf.split(0, n_steps, X)\n",
    "    \n",
    "    with tf.variable_scope('forward'):\n",
    "        lstm_cell = rnn_cell.BasicLSTMCell(n_hidden, forget_bias = 1.0)\n",
    "        outputs, states = rnn.rnn(lstm_cell, X, dtype=tf.float32)\n",
    "    \n",
    "    return tf.matmul(outputs[-1], weights['out']) + biases['out']\n",
    "\n",
    "pred = RNN(X, weights, biases)\n",
    "\n",
    "cost = tf.reduce_mean(tf.nn.softmax_cross_entropy_with_logits(pred, Y))\n",
    "optimizer = tf.train.AdamOptimizer(learning_rate=learning_rate).minimize(cost)\n",
    "\n",
    "correct_pred = tf.equal(tf.argmax(pred,1), tf.argmax(Y, 1))\n",
    "accuracy= tf.reduce_mean(tf.cast(correct_pred, tf.float32))\n",
    "\n",
    "init = tf.initialize_all_variables()\n"
   ]
  },
  {
   "cell_type": "code",
   "execution_count": 5,
   "metadata": {
    "collapsed": false
   },
   "outputs": [
    {
     "name": "stdout",
     "output_type": "stream",
     "text": [
      "Iter 1280, Minibatch Loss= 1.607635, Training Accuracy= 0.41406\n",
      "Iter 2560, Minibatch Loss= 1.467131, Training Accuracy= 0.48438\n",
      "Iter 3840, Minibatch Loss= 1.097093, Training Accuracy= 0.60156\n",
      "Iter 5120, Minibatch Loss= 0.817938, Training Accuracy= 0.78125\n",
      "Iter 6400, Minibatch Loss= 0.703708, Training Accuracy= 0.82031\n",
      "Iter 7680, Minibatch Loss= 1.095960, Training Accuracy= 0.63281\n",
      "Iter 8960, Minibatch Loss= 0.665088, Training Accuracy= 0.78125\n",
      "Iter 10240, Minibatch Loss= 0.569227, Training Accuracy= 0.80469\n",
      "Iter 11520, Minibatch Loss= 0.333717, Training Accuracy= 0.92188\n",
      "Iter 12800, Minibatch Loss= 0.594469, Training Accuracy= 0.81250\n",
      "Iter 14080, Minibatch Loss= 0.365413, Training Accuracy= 0.85938\n",
      "Iter 15360, Minibatch Loss= 0.333534, Training Accuracy= 0.89062\n",
      "Iter 16640, Minibatch Loss= 0.358673, Training Accuracy= 0.92969\n",
      "Iter 17920, Minibatch Loss= 0.314237, Training Accuracy= 0.89062\n",
      "Iter 19200, Minibatch Loss= 0.263935, Training Accuracy= 0.89844\n",
      "Iter 20480, Minibatch Loss= 0.163533, Training Accuracy= 0.95312\n",
      "Iter 21760, Minibatch Loss= 0.414759, Training Accuracy= 0.86719\n",
      "Iter 23040, Minibatch Loss= 0.143116, Training Accuracy= 0.94531\n",
      "Iter 24320, Minibatch Loss= 0.360301, Training Accuracy= 0.89062\n",
      "Iter 25600, Minibatch Loss= 0.390341, Training Accuracy= 0.89062\n",
      "Iter 26880, Minibatch Loss= 0.256089, Training Accuracy= 0.92188\n",
      "Iter 28160, Minibatch Loss= 0.278284, Training Accuracy= 0.92969\n",
      "Iter 29440, Minibatch Loss= 0.281252, Training Accuracy= 0.92188\n",
      "Iter 30720, Minibatch Loss= 0.274261, Training Accuracy= 0.89844\n",
      "Iter 32000, Minibatch Loss= 0.188344, Training Accuracy= 0.93750\n",
      "Iter 33280, Minibatch Loss= 0.210365, Training Accuracy= 0.93750\n",
      "Iter 34560, Minibatch Loss= 0.242646, Training Accuracy= 0.94531\n",
      "Iter 35840, Minibatch Loss= 0.210940, Training Accuracy= 0.93750\n",
      "Iter 37120, Minibatch Loss= 0.314142, Training Accuracy= 0.88281\n",
      "Iter 38400, Minibatch Loss= 0.127600, Training Accuracy= 0.95312\n",
      "Iter 39680, Minibatch Loss= 0.111277, Training Accuracy= 0.96094\n",
      "Iter 40960, Minibatch Loss= 0.329561, Training Accuracy= 0.91406\n",
      "Iter 42240, Minibatch Loss= 0.164698, Training Accuracy= 0.94531\n",
      "Iter 43520, Minibatch Loss= 0.149887, Training Accuracy= 0.94531\n",
      "Iter 44800, Minibatch Loss= 0.133343, Training Accuracy= 0.95312\n",
      "Iter 46080, Minibatch Loss= 0.156618, Training Accuracy= 0.95312\n",
      "Iter 47360, Minibatch Loss= 0.177231, Training Accuracy= 0.92969\n",
      "Iter 48640, Minibatch Loss= 0.242966, Training Accuracy= 0.90625\n",
      "Iter 49920, Minibatch Loss= 0.205929, Training Accuracy= 0.92969\n",
      "Iter 51200, Minibatch Loss= 0.097851, Training Accuracy= 0.96094\n",
      "Iter 52480, Minibatch Loss= 0.213554, Training Accuracy= 0.94531\n",
      "Iter 53760, Minibatch Loss= 0.046097, Training Accuracy= 0.99219\n",
      "Iter 55040, Minibatch Loss= 0.172025, Training Accuracy= 0.94531\n",
      "Iter 56320, Minibatch Loss= 0.131478, Training Accuracy= 0.94531\n",
      "Iter 57600, Minibatch Loss= 0.155980, Training Accuracy= 0.96094\n",
      "Iter 58880, Minibatch Loss= 0.128102, Training Accuracy= 0.96875\n",
      "Iter 60160, Minibatch Loss= 0.096857, Training Accuracy= 0.97656\n",
      "Iter 61440, Minibatch Loss= 0.153983, Training Accuracy= 0.95312\n",
      "Iter 62720, Minibatch Loss= 0.162428, Training Accuracy= 0.95312\n",
      "Iter 64000, Minibatch Loss= 0.123866, Training Accuracy= 0.95312\n",
      "Iter 65280, Minibatch Loss= 0.114129, Training Accuracy= 0.96875\n",
      "Iter 66560, Minibatch Loss= 0.071003, Training Accuracy= 0.97656\n",
      "Iter 67840, Minibatch Loss= 0.044239, Training Accuracy= 1.00000\n",
      "Iter 69120, Minibatch Loss= 0.093350, Training Accuracy= 0.96094\n",
      "Iter 70400, Minibatch Loss= 0.120641, Training Accuracy= 0.96094\n",
      "Iter 71680, Minibatch Loss= 0.095967, Training Accuracy= 0.96875\n",
      "Iter 72960, Minibatch Loss= 0.186370, Training Accuracy= 0.93750\n",
      "Iter 74240, Minibatch Loss= 0.058370, Training Accuracy= 0.99219\n",
      "Iter 75520, Minibatch Loss= 0.132247, Training Accuracy= 0.95312\n",
      "Iter 76800, Minibatch Loss= 0.152971, Training Accuracy= 0.96094\n",
      "Iter 78080, Minibatch Loss= 0.106498, Training Accuracy= 0.96875\n",
      "Iter 79360, Minibatch Loss= 0.082535, Training Accuracy= 0.95312\n",
      "Iter 80640, Minibatch Loss= 0.085938, Training Accuracy= 0.96875\n",
      "Iter 81920, Minibatch Loss= 0.090987, Training Accuracy= 0.96875\n",
      "Iter 83200, Minibatch Loss= 0.136959, Training Accuracy= 0.95312\n",
      "Iter 84480, Minibatch Loss= 0.172357, Training Accuracy= 0.95312\n",
      "Iter 85760, Minibatch Loss= 0.066644, Training Accuracy= 0.98438\n",
      "Iter 87040, Minibatch Loss= 0.082820, Training Accuracy= 0.96094\n",
      "Iter 88320, Minibatch Loss= 0.113848, Training Accuracy= 0.95312\n",
      "Iter 89600, Minibatch Loss= 0.109539, Training Accuracy= 0.96094\n",
      "Iter 90880, Minibatch Loss= 0.104972, Training Accuracy= 0.97656\n",
      "Iter 92160, Minibatch Loss= 0.135016, Training Accuracy= 0.96094\n",
      "Iter 93440, Minibatch Loss= 0.120617, Training Accuracy= 0.96094\n",
      "Iter 94720, Minibatch Loss= 0.085798, Training Accuracy= 0.96875\n",
      "Iter 96000, Minibatch Loss= 0.172695, Training Accuracy= 0.94531\n",
      "Iter 97280, Minibatch Loss= 0.201662, Training Accuracy= 0.95312\n",
      "Iter 98560, Minibatch Loss= 0.162314, Training Accuracy= 0.96875\n",
      "Iter 99840, Minibatch Loss= 0.085721, Training Accuracy= 0.97656\n",
      "Optimization Finished!\n",
      "Testing Accuracy: 0.976562\n"
     ]
    }
   ],
   "source": [
    "with tf.Session() as sess:\n",
    "    sess.run(init)\n",
    "    step = 1\n",
    "    \n",
    "    while step*batch_size < epochs:\n",
    "        batch_X, batch_Y = mnist.train.next_batch(batch_size)\n",
    "        batch_X = batch_X.reshape((batch_size, n_steps, n_input))\n",
    "        \n",
    "        sess.run(optimizer, feed_dict={X:batch_X, Y: batch_Y})\n",
    "        \n",
    "        if step% display_step == 0:\n",
    "            acc = sess.run(accuracy, feed_dict={X:batch_X, Y:batch_Y})\n",
    "            loss = sess.run(cost, feed_dict={X:batch_X, Y:batch_Y})\n",
    "            \n",
    "            print( \"Iter \" + str(step*batch_size) + \", Minibatch Loss= \" + \\\n",
    "                  \"{:.6f}\".format(loss) + \", Training Accuracy= \" + \\\n",
    "                  \"{:.5f}\".format(acc))\n",
    "        step +=1\n",
    "        \n",
    "    print(\"Optimization Finished!\")\n",
    "    \n",
    "    test_len = 128\n",
    "    test_data = mnist.test.images[:test_len].reshape((-1, n_steps, n_input))\n",
    "    test_label = mnist.test.labels[:test_len]\n",
    "    print(\"Testing Accuracy: \"+ str(sess.run(accuracy, feed_dict={X:test_data,Y:test_label})))"
   ]
  },
  {
   "cell_type": "code",
   "execution_count": 29,
   "metadata": {
    "collapsed": false
   },
   "outputs": [
    {
     "name": "stdout",
     "output_type": "stream",
     "text": [
      "array([[[ 1,  2,  3,  4],\n",
      "        [ 5,  6,  7,  8],\n",
      "        [ 9, 10, 11, 12]],\n",
      "\n",
      "       [[13, 14, 15, 16],\n",
      "        [17, 18, 19, 20],\n",
      "        [21, 22, 23, 24]]])\n"
     ]
    }
   ],
   "source": [
    "from pprint import pprint\n",
    "sess = tf.InteractiveSession()\n",
    "X = np.array([\n",
    "                [[1, 2, 3,4],\n",
    "                 [5,  6, 7,8],\n",
    "                 [9,10,11,12]],\n",
    "        \n",
    "                [[13,14,15,16],\n",
    "                 [17, 18, 19,20],\n",
    "                 [21, 22, 23, 24]]\n",
    "             ])\n",
    "\n",
    "pprint(X) # 2x 3x 4"
   ]
  },
  {
   "cell_type": "code",
   "execution_count": 30,
   "metadata": {
    "collapsed": false
   },
   "outputs": [
    {
     "name": "stdout",
     "output_type": "stream",
     "text": [
      "array([[[ 1,  5,  9],\n",
      "        [ 2,  6, 10],\n",
      "        [ 3,  7, 11],\n",
      "        [ 4,  8, 12]],\n",
      "\n",
      "       [[13, 17, 21],\n",
      "        [14, 18, 22],\n",
      "        [15, 19, 23],\n",
      "        [16, 20, 24]]])\n"
     ]
    }
   ],
   "source": [
    "pprint(tf.transpose(X,[0,2,1]).eval())"
   ]
  },
  {
   "cell_type": "code",
   "execution_count": 31,
   "metadata": {
    "collapsed": false
   },
   "outputs": [
    {
     "name": "stdout",
     "output_type": "stream",
     "text": [
      "array([[[ 1, 13],\n",
      "        [ 5, 17],\n",
      "        [ 9, 21]],\n",
      "\n",
      "       [[ 2, 14],\n",
      "        [ 6, 18],\n",
      "        [10, 22]],\n",
      "\n",
      "       [[ 3, 15],\n",
      "        [ 7, 19],\n",
      "        [11, 23]],\n",
      "\n",
      "       [[ 4, 16],\n",
      "        [ 8, 20],\n",
      "        [12, 24]]])\n"
     ]
    }
   ],
   "source": [
    "pprint(tf.transpose(X,[2,1,0]).eval())#3x2x4"
   ]
  },
  {
   "cell_type": "code",
   "execution_count": 32,
   "metadata": {
    "collapsed": false
   },
   "outputs": [
    {
     "name": "stdout",
     "output_type": "stream",
     "text": [
      "array([[[ 1, 13],\n",
      "        [ 5, 17],\n",
      "        [ 9, 21]],\n",
      "\n",
      "       [[ 2, 14],\n",
      "        [ 6, 18],\n",
      "        [10, 22]],\n",
      "\n",
      "       [[ 3, 15],\n",
      "        [ 7, 19],\n",
      "        [11, 23]],\n",
      "\n",
      "       [[ 4, 16],\n",
      "        [ 8, 20],\n",
      "        [12, 24]]])\n"
     ]
    }
   ],
   "source": [
    "pprint(tf.transpose(X,[2,1,0]).eval()) # 4x3x2"
   ]
  },
  {
   "cell_type": "code",
   "execution_count": 33,
   "metadata": {
    "collapsed": false
   },
   "outputs": [
    {
     "name": "stdout",
     "output_type": "stream",
     "text": [
      "array([[[ 1,  2,  3,  4],\n",
      "        [13, 14, 15, 16]],\n",
      "\n",
      "       [[ 5,  6,  7,  8],\n",
      "        [17, 18, 19, 20]],\n",
      "\n",
      "       [[ 9, 10, 11, 12],\n",
      "        [21, 22, 23, 24]]])\n"
     ]
    }
   ],
   "source": [
    "pprint(tf.transpose(X,[1,0,2]).eval()) # 3x2x4"
   ]
  },
  {
   "cell_type": "code",
   "execution_count": 35,
   "metadata": {
    "collapsed": false
   },
   "outputs": [
    {
     "data": {
      "text/plain": [
       "array([[ 1,  2,  3,  4],\n",
       "       [13, 14, 15, 16],\n",
       "       [ 5,  6,  7,  8],\n",
       "       [17, 18, 19, 20],\n",
       "       [ 9, 10, 11, 12],\n",
       "       [21, 22, 23, 24]])"
      ]
     },
     "execution_count": 35,
     "metadata": {},
     "output_type": "execute_result"
    }
   ],
   "source": [
    "A=tf.transpose(X,[1,0,2]).eval()\n",
    "tf.reshape(A, [-1, 4]).eval()"
   ]
  },
  {
   "cell_type": "code",
   "execution_count": null,
   "metadata": {
    "collapsed": true
   },
   "outputs": [],
   "source": []
  },
  {
   "cell_type": "code",
   "execution_count": null,
   "metadata": {
    "collapsed": true
   },
   "outputs": [],
   "source": []
  }
 ],
 "metadata": {
  "kernelspec": {
   "display_name": "Python 3",
   "language": "python",
   "name": "python3"
  },
  "language_info": {
   "codemirror_mode": {
    "name": "ipython",
    "version": 3
   },
   "file_extension": ".py",
   "mimetype": "text/x-python",
   "name": "python",
   "nbconvert_exporter": "python",
   "pygments_lexer": "ipython3",
   "version": "3.5.1"
  }
 },
 "nbformat": 4,
 "nbformat_minor": 1
}
