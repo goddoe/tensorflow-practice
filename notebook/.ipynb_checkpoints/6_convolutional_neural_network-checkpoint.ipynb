{
 "cells": [
  {
   "cell_type": "code",
   "execution_count": 1,
   "metadata": {
    "collapsed": false
   },
   "outputs": [
    {
     "name": "stdout",
     "output_type": "stream",
     "text": [
      "Extracting /tmp/data/train-images-idx3-ubyte.gz\n",
      "Extracting /tmp/data/train-labels-idx1-ubyte.gz\n",
      "Extracting /tmp/data/t10k-images-idx3-ubyte.gz\n",
      "Extracting /tmp/data/t10k-labels-idx1-ubyte.gz\n"
     ]
    }
   ],
   "source": [
    "import tensorflow as tf\n",
    "from tensorflow.examples.tutorials.mnist import input_data\n",
    "mnist = input_data.read_data_sets(\"/tmp/data/\", one_hot=True)"
   ]
  },
  {
   "cell_type": "code",
   "execution_count": 2,
   "metadata": {
    "collapsed": true
   },
   "outputs": [],
   "source": [
    "learning_rate = 0.001\n",
    "epochs = 200000\n",
    "batch_size = 128\n",
    "display_step = 10\n",
    "\n",
    "n_input = 784\n",
    "n_classes = 10\n",
    "\n",
    "dropout = 0.75\n",
    "\n",
    "X = tf.placeholder(tf.float32, [None, n_input])\n",
    "Y = tf.placeholder(tf.float32, [None, n_classes])\n",
    "keep_prob = tf.placeholder(tf.float32)"
   ]
  },
  {
   "cell_type": "code",
   "execution_count": 3,
   "metadata": {
    "collapsed": false
   },
   "outputs": [],
   "source": [
    "def conv2d(X, W, b, strides=1):\n",
    "    X = tf.nn.conv2d(X,W,strides=[1,strides, strides,1],padding='SAME')\n",
    "    X = tf.nn.bias_add(X,b)\n",
    "    return tf.nn.relu(X)\n",
    "\n",
    "def maxpool2d(X, k =2):\n",
    "    # ksize is window!, strides is just strides!\n",
    "    return tf.nn.max_pool(X,ksize = [1,k,k,1],strides=[1,k,k,1], padding='SAME')\n",
    "\n",
    "def conv_net(X, weight, biases, dropout):\n",
    "    X = tf.reshape(X, shape=[-1, 28, 28, 1])\n",
    "    \n",
    "    conv1 = conv2d(X, weights['wc1'], biases['bc1'])\n",
    "    conv1 = maxpool2d(conv1,k=2)\n",
    "    \n",
    "    conv2 = conv2d(conv1, weights['wc2'], biases['bc2'])\n",
    "    conv2 = maxpool2d(conv2, k=2)\n",
    "    \n",
    "    fc1 = tf.reshape(conv2, [-1, weights['wd1'].get_shape().as_list()[0]])\n",
    "    fc1 = tf.add(tf.matmul(fc1, weights['wd1']), biases['bd1'])\n",
    "    fc1 = tf.nn.relu(fc1)\n",
    "    \n",
    "    fc1 = tf.nn.dropout(fc1, dropout)\n",
    "    \n",
    "    out = tf.add(tf.matmul(fc1, weights['out']), biases['out'])\n",
    "    return out"
   ]
  },
  {
   "cell_type": "code",
   "execution_count": 4,
   "metadata": {
    "collapsed": false
   },
   "outputs": [],
   "source": [
    "weights = {\n",
    "    # 5x5 conv, 1 input, 32 outputs\n",
    "    # I think '1 input' means the channel's dimension is one\n",
    "    'wc1': tf.Variable(tf.random_normal([5,5,1,32])),\n",
    "    'wc2': tf.Variable(tf.random_normal([5,5,32,64])),\n",
    "    'wd1': tf.Variable(tf.random_normal([7*7*64, 1024])),\n",
    "    'out': tf.Variable(tf.random_normal([1024, n_classes]))\n",
    "}\n",
    "\n",
    "biases = {\n",
    "    'bc1': tf.Variable(tf.random_normal([32])),\n",
    "    'bc2': tf.Variable(tf.random_normal([64])),\n",
    "    'bd1': tf.Variable(tf.random_normal([1024])),\n",
    "    'out': tf.Variable(tf.random_normal([n_classes]))\n",
    "}"
   ]
  },
  {
   "cell_type": "code",
   "execution_count": null,
   "metadata": {
    "collapsed": false
   },
   "outputs": [],
   "source": [
    "pred = conv_net(X,weights, biases, keep_prob)\n",
    "\n",
    "cost = tf.reduce_mean(tf.nn.softmax_cross_entropy_with_logits(pred,Y))\n",
    "optimizer = tf.train.AdamOptimizer(learning_rate).minimize(cost)\n",
    "\n",
    "correct_pred = tf.equal(tf.argmax(pred,1), tf.argmax(Y,1))\n",
    "accuracy = tf.reduce_mean(tf.cast(correct_pred, tf.float32))\n",
    "\n",
    "init = tf.initialize_all_variables()"
   ]
  },
  {
   "cell_type": "code",
   "execution_count": null,
   "metadata": {
    "collapsed": false
   },
   "outputs": [
    {
     "name": "stdout",
     "output_type": "stream",
     "text": [
      "Iter 1280, Minibatch Loss= 24655.193359, Training Accuracy= 0.20312\n",
      "Iter 2560, Minibatch Loss= 13318.351562, Training Accuracy= 0.50000\n",
      "Iter 3840, Minibatch Loss= 6683.816406, Training Accuracy= 0.64062\n",
      "Iter 5120, Minibatch Loss= 4439.487793, Training Accuracy= 0.75000\n",
      "Iter 6400, Minibatch Loss= 3797.314941, Training Accuracy= 0.80469\n",
      "Iter 7680, Minibatch Loss= 8002.142090, Training Accuracy= 0.73438\n",
      "Iter 8960, Minibatch Loss= 3424.151367, Training Accuracy= 0.80469\n",
      "Iter 10240, Minibatch Loss= 2609.185547, Training Accuracy= 0.82031\n",
      "Iter 11520, Minibatch Loss= 1934.555420, Training Accuracy= 0.84375\n",
      "Iter 12800, Minibatch Loss= 3136.123779, Training Accuracy= 0.82812\n",
      "Iter 14080, Minibatch Loss= 1406.236938, Training Accuracy= 0.92969\n",
      "Iter 15360, Minibatch Loss= 1129.215820, Training Accuracy= 0.93750\n",
      "Iter 16640, Minibatch Loss= 2185.318359, Training Accuracy= 0.90625\n",
      "Iter 17920, Minibatch Loss= 1143.690674, Training Accuracy= 0.92969\n",
      "Iter 19200, Minibatch Loss= 1554.617065, Training Accuracy= 0.91406\n",
      "Iter 20480, Minibatch Loss= 183.450684, Training Accuracy= 0.97656\n",
      "Iter 21760, Minibatch Loss= 4240.766602, Training Accuracy= 0.84375\n",
      "Iter 23040, Minibatch Loss= 607.102661, Training Accuracy= 0.97656\n",
      "Iter 24320, Minibatch Loss= 1255.804443, Training Accuracy= 0.89844\n",
      "Iter 25600, Minibatch Loss= 1451.037109, Training Accuracy= 0.89844\n"
     ]
    }
   ],
   "source": [
    "with tf.Session() as sess:\n",
    "    sess.run(init)\n",
    "    step = 1\n",
    "    \n",
    "    while step* batch_size < epochs:\n",
    "        batch_X, batch_Y = mnist.train.next_batch(batch_size)\n",
    "        \n",
    "        sess.run(optimizer, feed_dict={X:batch_X, Y:batch_Y, keep_prob:dropout})\n",
    "        \n",
    "        if step% display_step == 0:\n",
    "            loss, acc = sess.run([cost,accuracy], feed_dict={X:batch_X, Y:batch_Y,\n",
    "                                                               keep_prob: 1.})\n",
    "            \n",
    "            print( \"Iter \" + str(step*batch_size) + \", Minibatch Loss= \" + \\\n",
    "                  \"{:.6f}\".format(loss) + \", Training Accuracy= \" + \\\n",
    "                  \"{:.5f}\".format(acc))\n",
    "            \n",
    "        step +=1\n",
    "        \n",
    "    print(\"Optimization Finished!\")\n",
    "    print(\"Testing Accuracy\"+ str(sess.run(accuracy, feed_dict={X: mnist.test.images[:256],\n",
    "                                                                    Y:mnist.test.labels[:256],\n",
    "                                                                      keep_prob:1.})))"
   ]
  },
  {
   "cell_type": "code",
   "execution_count": null,
   "metadata": {
    "collapsed": true
   },
   "outputs": [],
   "source": []
  },
  {
   "cell_type": "code",
   "execution_count": null,
   "metadata": {
    "collapsed": true
   },
   "outputs": [],
   "source": []
  }
 ],
 "metadata": {
  "kernelspec": {
   "display_name": "Python 3",
   "language": "python",
   "name": "python3"
  },
  "language_info": {
   "codemirror_mode": {
    "name": "ipython",
    "version": 3
   },
   "file_extension": ".py",
   "mimetype": "text/x-python",
   "name": "python",
   "nbconvert_exporter": "python",
   "pygments_lexer": "ipython3",
   "version": "3.5.1"
  }
 },
 "nbformat": 4,
 "nbformat_minor": 1
}
