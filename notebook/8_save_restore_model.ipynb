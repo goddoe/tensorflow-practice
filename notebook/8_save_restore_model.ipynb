{
 "cells": [
  {
   "cell_type": "code",
   "execution_count": 1,
   "metadata": {
    "collapsed": false
   },
   "outputs": [
    {
     "name": "stdout",
     "output_type": "stream",
     "text": [
      "Successfully downloaded train-images-idx3-ubyte.gz 9912422 bytes.\n",
      "Extracting /tmp/data/train-images-idx3-ubyte.gz\n",
      "Successfully downloaded train-labels-idx1-ubyte.gz 28881 bytes.\n",
      "Extracting /tmp/data/train-labels-idx1-ubyte.gz\n",
      "Successfully downloaded t10k-images-idx3-ubyte.gz 1648877 bytes.\n",
      "Extracting /tmp/data/t10k-images-idx3-ubyte.gz\n",
      "Successfully downloaded t10k-labels-idx1-ubyte.gz 4542 bytes.\n",
      "Extracting /tmp/data/t10k-labels-idx1-ubyte.gz\n"
     ]
    }
   ],
   "source": [
    "import tensorflow as tf\n",
    "from tensorflow.examples.tutorials.mnist import input_data\n",
    "mnist = input_data.read_data_sets(\"/tmp/data/\", one_hot=True)"
   ]
  },
  {
   "cell_type": "code",
   "execution_count": 2,
   "metadata": {
    "collapsed": false
   },
   "outputs": [],
   "source": [
    "learning_rate = 0.001\n",
    "batch_size = 100\n",
    "display_step = 1\n",
    "model_path = \"./data/model.ckpt\"\n",
    "\n",
    "n_hidden_1 = 256\n",
    "n_hidden_2 = 256\n",
    "n_input =784\n",
    "n_classes = 10\n",
    "\n",
    "X = tf.placeholder(tf.float32, [None, n_input])\n",
    "Y = tf.placeholder(tf.float32, [None, n_classes])\n",
    "\n",
    "# Create model\n",
    "def multilayer_perceptron(X, weights, biases):\n",
    "    # Hidden layer with RELU activation\n",
    "    layer_1 = tf.add(tf.matmul(X, weights['h1']), biases['b1'])\n",
    "    layer_1 = tf.nn.relu(layer_1)\n",
    "    # Hidden layer with RELU activation\n",
    "    layer_2 = tf.add(tf.matmul(layer_1, weights['h2']), biases['b2'])\n",
    "    layer_2 = tf.nn.relu(layer_2)\n",
    "    # Output layer with linear activation\n",
    "    out_layer = tf.matmul(layer_2, weights['out']) + biases['out']\n",
    "    return out_layer\n",
    "\n",
    "# Store layers weight & bias\n",
    "weights = {\n",
    "    'h1': tf.Variable(tf.random_normal([n_input, n_hidden_1])),\n",
    "    'h2': tf.Variable(tf.random_normal([n_hidden_1, n_hidden_2])),\n",
    "    'out': tf.Variable(tf.random_normal([n_hidden_2, n_classes]))\n",
    "}\n",
    "biases = {\n",
    "    'b1': tf.Variable(tf.random_normal([n_hidden_1])),\n",
    "    'b2': tf.Variable(tf.random_normal([n_hidden_2])),\n",
    "    'out': tf.Variable(tf.random_normal([n_classes]))\n",
    "}\n",
    "\n",
    "# Construct model\n",
    "pred = multilayer_perceptron(X, weights, biases)\n",
    "\n",
    "# Define loss and optimizer\n",
    "cost = tf.reduce_mean(tf.nn.softmax_cross_entropy_with_logits(pred, Y))\n",
    "optimizer = tf.train.AdamOptimizer(learning_rate=learning_rate).minimize(cost)\n",
    "\n",
    "# Initializing the variables\n",
    "init = tf.initialize_all_variables()"
   ]
  },
  {
   "cell_type": "markdown",
   "metadata": {},
   "source": [
    "## Save"
   ]
  },
  {
   "cell_type": "code",
   "execution_count": 3,
   "metadata": {
    "collapsed": true
   },
   "outputs": [],
   "source": [
    "# 'Saver' op to save and restore all the variables\n",
    "saver = tf.train.Saver()"
   ]
  },
  {
   "cell_type": "code",
   "execution_count": 4,
   "metadata": {
    "collapsed": false,
    "scrolled": true
   },
   "outputs": [
    {
     "name": "stdout",
     "output_type": "stream",
     "text": [
      "Epoch: 0001 cost= 98.927903609\n",
      "Epoch: 0002 cost= 26.225927866\n",
      "Epoch: 0003 cost= 18.514694106\n",
      "Epoch: 0004 cost= 13.817546532\n",
      "Epoch: 0005 cost= 12.934680890\n",
      "Epoch: 0006 cost= 8.261287063\n",
      "Epoch: 0007 cost= 8.973457217\n",
      "Epoch: 0008 cost= 7.485161913\n",
      "Epoch: 0009 cost= 6.911409857\n",
      "Epoch: 0010 cost= 6.598327430\n",
      "Epoch: 0011 cost= 6.419381376\n",
      "Epoch: 0012 cost= 5.111067943\n",
      "Epoch: 0013 cost= 5.082075245\n",
      "Epoch: 0014 cost= 4.685605249\n",
      "Epoch: 0015 cost= 4.388187779\n",
      "Epoch: 0016 cost= 4.205841089\n",
      "Epoch: 0017 cost= 3.882994150\n",
      "Epoch: 0018 cost= 3.372019638\n",
      "Epoch: 0019 cost= 3.112797648\n",
      "Epoch: 0020 cost= 3.102711377\n",
      "Epoch: 0021 cost= 3.180817396\n",
      "Epoch: 0022 cost= 3.258240452\n",
      "Epoch: 0023 cost= 2.356369968\n",
      "Epoch: 0024 cost= 2.443923872\n",
      "Epoch: 0025 cost= 2.174295551\n",
      "Epoch: 0026 cost= 2.410746910\n",
      "Epoch: 0027 cost= 2.290733940\n",
      "Epoch: 0028 cost= 1.869466666\n",
      "Epoch: 0029 cost= 1.909222934\n",
      "Epoch: 0030 cost= 1.633284212\n",
      "Epoch: 0031 cost= 1.797206610\n",
      "Epoch: 0032 cost= 1.584597216\n",
      "Epoch: 0033 cost= 1.859798947\n",
      "Epoch: 0034 cost= 1.199188767\n",
      "Epoch: 0035 cost= 1.433872705\n",
      "Epoch: 0036 cost= 1.401335066\n",
      "Epoch: 0037 cost= 1.249681925\n",
      "Epoch: 0038 cost= 1.182758297\n",
      "Epoch: 0039 cost= 1.237812533\n",
      "Epoch: 0040 cost= 0.940209877\n",
      "Epoch: 0041 cost= 0.937762752\n",
      "Epoch: 0042 cost= 0.912939186\n",
      "Epoch: 0043 cost= 1.011214965\n",
      "Epoch: 0044 cost= 0.982488549\n",
      "Epoch: 0045 cost= 0.644078301\n",
      "Epoch: 0046 cost= 0.687255460\n",
      "Epoch: 0047 cost= 0.725569225\n",
      "Epoch: 0048 cost= 0.641393077\n",
      "Epoch: 0049 cost= 0.902149870\n",
      "Epoch: 0050 cost= 0.604175871\n",
      "Epoch: 0051 cost= 0.483898756\n",
      "Epoch: 0052 cost= 0.577129643\n",
      "Epoch: 0053 cost= 0.554609014\n",
      "Epoch: 0054 cost= 0.654789514\n",
      "Epoch: 0055 cost= 0.586119598\n",
      "Epoch: 0056 cost= 0.333269800\n",
      "Epoch: 0057 cost= 0.398864852\n",
      "Epoch: 0058 cost= 0.377482452\n",
      "Epoch: 0059 cost= 0.485579187\n",
      "Epoch: 0060 cost= 0.432511825\n",
      "Epoch: 0061 cost= 0.372346716\n",
      "Epoch: 0062 cost= 0.313601994\n",
      "Epoch: 0063 cost= 0.310432873\n",
      "Epoch: 0064 cost= 0.235805236\n",
      "Epoch: 0065 cost= 0.277293868\n",
      "Epoch: 0066 cost= 0.345024078\n",
      "Epoch: 0067 cost= 0.266812238\n",
      "Epoch: 0068 cost= 0.258770226\n",
      "Epoch: 0069 cost= 0.198435604\n",
      "Epoch: 0070 cost= 0.237045754\n",
      "Epoch: 0071 cost= 0.257215172\n",
      "Epoch: 0072 cost= 0.228292666\n",
      "Epoch: 0073 cost= 0.184712832\n",
      "Epoch: 0074 cost= 0.205241406\n",
      "Epoch: 0075 cost= 0.169815378\n",
      "Epoch: 0076 cost= 0.206476328\n",
      "Epoch: 0077 cost= 0.215597940\n",
      "Epoch: 0078 cost= 0.112527570\n",
      "Epoch: 0079 cost= 0.166480651\n",
      "Epoch: 0080 cost= 0.118750694\n",
      "Epoch: 0081 cost= 0.159132588\n",
      "Epoch: 0082 cost= 0.165428695\n",
      "Epoch: 0083 cost= 0.102588642\n",
      "Epoch: 0084 cost= 0.110559591\n",
      "Epoch: 0085 cost= 0.096841263\n",
      "Epoch: 0086 cost= 0.100130986\n",
      "Epoch: 0087 cost= 0.115918048\n",
      "Epoch: 0088 cost= 0.132420755\n",
      "Epoch: 0089 cost= 0.071411484\n",
      "Epoch: 0090 cost= 0.098538571\n",
      "Epoch: 0091 cost= 0.116107074\n",
      "Epoch: 0092 cost= 0.083367100\n",
      "Epoch: 0093 cost= 0.160614913\n",
      "Epoch: 0094 cost= 0.114636368\n",
      "Epoch: 0095 cost= 0.082743931\n",
      "Epoch: 0096 cost= 0.117179579\n",
      "Epoch: 0097 cost= 0.101913439\n",
      "Epoch: 0098 cost= 0.106047518\n",
      "Epoch: 0099 cost= 0.100909283\n",
      "Epoch: 0100 cost= 0.060488002\n",
      "First Optimization Finished!\n"
     ]
    },
    {
     "ename": "NameError",
     "evalue": "name 'y' is not defined",
     "output_type": "error",
     "traceback": [
      "\u001b[0;31m---------------------------------------------------------------------------\u001b[0m",
      "\u001b[0;31mNameError\u001b[0m                                 Traceback (most recent call last)",
      "\u001b[0;32m<ipython-input-4-c6112e65b811>\u001b[0m in \u001b[0;36m<module>\u001b[0;34m()\u001b[0m\n\u001b[1;32m     15\u001b[0m     \u001b[0mprint\u001b[0m\u001b[0;34m(\u001b[0m\u001b[0;34m\"First Optimization Finished!\"\u001b[0m\u001b[0;34m)\u001b[0m\u001b[0;34m\u001b[0m\u001b[0m\n\u001b[1;32m     16\u001b[0m \u001b[0;34m\u001b[0m\u001b[0m\n\u001b[0;32m---> 17\u001b[0;31m     \u001b[0mcorrect_prediction\u001b[0m \u001b[0;34m=\u001b[0m \u001b[0mtf\u001b[0m\u001b[0;34m.\u001b[0m\u001b[0mequal\u001b[0m\u001b[0;34m(\u001b[0m\u001b[0mtf\u001b[0m\u001b[0;34m.\u001b[0m\u001b[0margmax\u001b[0m\u001b[0;34m(\u001b[0m\u001b[0mpred\u001b[0m\u001b[0;34m,\u001b[0m \u001b[0;36m1\u001b[0m \u001b[0;34m)\u001b[0m\u001b[0;34m,\u001b[0m \u001b[0mtf\u001b[0m\u001b[0;34m.\u001b[0m\u001b[0margmax\u001b[0m\u001b[0;34m(\u001b[0m\u001b[0my\u001b[0m\u001b[0;34m,\u001b[0m\u001b[0;36m1\u001b[0m\u001b[0;34m)\u001b[0m\u001b[0;34m)\u001b[0m\u001b[0;34m\u001b[0m\u001b[0m\n\u001b[0m\u001b[1;32m     18\u001b[0m \u001b[0;34m\u001b[0m\u001b[0m\n\u001b[1;32m     19\u001b[0m     \u001b[0maccuracy\u001b[0m \u001b[0;34m=\u001b[0m \u001b[0mtf\u001b[0m\u001b[0;34m.\u001b[0m\u001b[0mreduce_mean\u001b[0m\u001b[0;34m(\u001b[0m\u001b[0mtf\u001b[0m\u001b[0;34m.\u001b[0m\u001b[0mcast\u001b[0m\u001b[0;34m(\u001b[0m\u001b[0mcorrect_prediction\u001b[0m\u001b[0;34m,\u001b[0m \u001b[0mtf\u001b[0m\u001b[0;34m.\u001b[0m\u001b[0mfloat32\u001b[0m\u001b[0;34m)\u001b[0m\u001b[0;34m)\u001b[0m\u001b[0;34m\u001b[0m\u001b[0m\n",
      "\u001b[0;31mNameError\u001b[0m: name 'y' is not defined"
     ]
    }
   ],
   "source": [
    "with tf.Session() as sess:\n",
    "    sess.run(init)\n",
    "    \n",
    "    for epoch in range(100):\n",
    "        avg_cost = 0.\n",
    "        total_batch = int(mnist.train.num_examples/batch_size)\n",
    "        \n",
    "        for i in range(batch_size):\n",
    "            batch_X, batch_Y  = mnist.train.next_batch(batch_size)\n",
    "            _, c = sess.run([optimizer, cost], feed_dict={X:batch_X, Y:batch_Y})\n",
    "            \n",
    "            avg_cost += c/total_batch\n",
    "        if epoch % display_step == 0:\n",
    "            print( \"Epoch:\", '%04d' % (epoch+1), \"cost=\", \\\n",
    "                \"{:.9f}\".format(avg_cost))\n",
    "    print(\"First Optimization Finished!\")\n",
    "    \n",
    "    correct_prediction = tf.equal(tf.argmax(pred, 1 ), tf.argmax(y,1))\n",
    "    \n",
    "    accuracy = tf.reduce_mean(tf.cast(correct_prediction, tf.float32))\n",
    "    print(\"Accuracy : \"+ str(accuracy.eval({X:mnist.test.images, Y:mnist.test.labels})) )\n",
    "    \n",
    "    save_path = saver.save(sess,model_path)\n",
    "    print(\"Model saved in file : %s\" % save_path)"
   ]
  },
  {
   "cell_type": "markdown",
   "metadata": {
    "collapsed": true
   },
   "source": [
    "## Restore"
   ]
  },
  {
   "cell_type": "code",
   "execution_count": null,
   "metadata": {
    "collapsed": true
   },
   "outputs": [],
   "source": [
    "print(\"restore!\")\n",
    "\n",
    "with tf.Session() as sess:\n",
    "    sess.run(init)\n",
    "    \n",
    "    load_path = save.restore(sess, model_path)\n",
    "    \n",
    "    for epoch in range(10):\n",
    "        avg_cost = 0.\n",
    "        total_batch = int(mnist.train.num_examples / batch_size)\n",
    "        \n",
    "        for i in range(total_batch):\n",
    "            batch_x, batch_y = mnist.train.next_batch(batch_size)\n",
    "            _, c = sess.run([optimizer, cost], feed_dict={x : batch_x, y: batch_y})\n",
    "            \n",
    "            avg_cost += c / total_batch\n",
    "            \n",
    "        if epoch % display_step = 0 : \n",
    "            print(\"Epoch:\", \"%04d\"%(epoch+1), \"cost=\", \"{:.9f}\".format(avg_cost))\n",
    "            \n",
    "    print(\"retrain done\")\n",
    "    \n",
    "    correct_prediction = tf.equal(tf.argmax(pred, 1), tf.argmax(y, 1))\n",
    "    accuracy = tf.reduce_mean(tf.cast(correct_prediction, \"float\"))\n",
    "    print(\"Accuracy: \", accuracy.eval({x: mnist.test.images, y: mnist.test.labels}))\n",
    "    "
   ]
  },
  {
   "cell_type": "code",
   "execution_count": null,
   "metadata": {
    "collapsed": true
   },
   "outputs": [],
   "source": []
  }
 ],
 "metadata": {
  "kernelspec": {
   "display_name": "Python 3",
   "language": "python",
   "name": "python3"
  },
  "language_info": {
   "codemirror_mode": {
    "name": "ipython",
    "version": 3
   },
   "file_extension": ".py",
   "mimetype": "text/x-python",
   "name": "python",
   "nbconvert_exporter": "python",
   "pygments_lexer": "ipython3",
   "version": "3.5.2"
  }
 },
 "nbformat": 4,
 "nbformat_minor": 1
}
