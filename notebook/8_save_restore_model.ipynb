{
 "cells": [
  {
   "cell_type": "code",
   "execution_count": 1,
   "metadata": {
    "collapsed": false
   },
   "outputs": [
    {
     "name": "stdout",
     "output_type": "stream",
     "text": [
      "Extracting /tmp/data/train-images-idx3-ubyte.gz\n",
      "Extracting /tmp/data/train-labels-idx1-ubyte.gz\n",
      "Extracting /tmp/data/t10k-images-idx3-ubyte.gz\n",
      "Extracting /tmp/data/t10k-labels-idx1-ubyte.gz\n"
     ]
    }
   ],
   "source": [
    "import tensorflow as tf\n",
    "from tensorflow.examples.tutorials.mnist import input_data\n",
    "mnist = input_data.read_data_sets(\"/tmp/data/\", one_hot=True)"
   ]
  },
  {
   "cell_type": "code",
   "execution_count": 3,
   "metadata": {
    "collapsed": false
   },
   "outputs": [],
   "source": [
    "learning_rate = 0.001\n",
    "batch_size = 100\n",
    "display_step = 1\n",
    "model_path = \"./data/model.ckpt\"\n",
    "\n",
    "n_hidden_1 = 256\n",
    "n_hidden_2 = 256\n",
    "n_input =784\n",
    "n_classes = 10\n",
    "\n",
    "X = tf.placeholder(tf.float32, [None, n_input])\n",
    "Y = tf.placeholder(tf.float32, [None, n_classes])\n",
    "\n",
    "# Create model\n",
    "def multilayer_perceptron(X, weights, biases):\n",
    "    # Hidden layer with RELU activation\n",
    "    layer_1 = tf.add(tf.matmul(X, weights['h1']), biases['b1'])\n",
    "    layer_1 = tf.nn.relu(layer_1)\n",
    "    # Hidden layer with RELU activation\n",
    "    layer_2 = tf.add(tf.matmul(layer_1, weights['h2']), biases['b2'])\n",
    "    layer_2 = tf.nn.relu(layer_2)\n",
    "    # Output layer with linear activation\n",
    "    out_layer = tf.matmul(layer_2, weights['out']) + biases['out']\n",
    "    return out_layer\n",
    "\n",
    "# Store layers weight & bias\n",
    "weights = {\n",
    "    'h1': tf.Variable(tf.random_normal([n_input, n_hidden_1])),\n",
    "    'h2': tf.Variable(tf.random_normal([n_hidden_1, n_hidden_2])),\n",
    "    'out': tf.Variable(tf.random_normal([n_hidden_2, n_classes]))\n",
    "}\n",
    "biases = {\n",
    "    'b1': tf.Variable(tf.random_normal([n_hidden_1])),\n",
    "    'b2': tf.Variable(tf.random_normal([n_hidden_2])),\n",
    "    'out': tf.Variable(tf.random_normal([n_classes]))\n",
    "}\n",
    "\n",
    "# Construct model\n",
    "pred = multilayer_perceptron(X, weights, biases)\n",
    "\n",
    "# Define loss and optimizer\n",
    "cost = tf.reduce_mean(tf.nn.softmax_cross_entropy_with_logits(pred, Y))\n",
    "optimizer = tf.train.AdamOptimizer(learning_rate=learning_rate).minimize(cost)\n",
    "\n",
    "# Initializing the variables\n",
    "init = tf.initialize_all_variables()"
   ]
  },
  {
   "cell_type": "code",
   "execution_count": 4,
   "metadata": {
    "collapsed": true
   },
   "outputs": [],
   "source": [
    "# 'Saver' op to save and restore all the variables\n",
    "saver = tf.train.Saver()"
   ]
  },
  {
   "cell_type": "code",
   "execution_count": 5,
   "metadata": {
    "collapsed": false,
    "scrolled": true
   },
   "outputs": [
    {
     "name": "stdout",
     "output_type": "stream",
     "text": [
      "Epoch: 0001 cost= 108.836407498\n",
      "Epoch: 0002 cost= 30.739126670\n",
      "Epoch: 0003 cost= 21.507855863\n",
      "Epoch: 0004 cost= 15.947324760\n",
      "Epoch: 0005 cost= 14.108594177\n",
      "Epoch: 0006 cost= 10.141938653\n",
      "Epoch: 0007 cost= 10.082922783\n",
      "Epoch: 0008 cost= 8.599552193\n",
      "Epoch: 0009 cost= 7.916485622\n",
      "Epoch: 0010 cost= 7.450386595\n",
      "Epoch: 0011 cost= 6.868772612\n",
      "Epoch: 0012 cost= 5.539112077\n",
      "Epoch: 0013 cost= 5.567978056\n",
      "Epoch: 0014 cost= 5.313154310\n",
      "Epoch: 0015 cost= 4.911020572\n",
      "Epoch: 0016 cost= 4.769210415\n",
      "Epoch: 0017 cost= 4.223326237\n",
      "Epoch: 0018 cost= 3.631510315\n",
      "Epoch: 0019 cost= 3.788965478\n",
      "Epoch: 0020 cost= 3.328496356\n",
      "Epoch: 0021 cost= 3.681523117\n",
      "Epoch: 0022 cost= 3.365954922\n",
      "Epoch: 0023 cost= 2.619539668\n",
      "Epoch: 0024 cost= 2.854094573\n",
      "Epoch: 0025 cost= 2.401501827\n",
      "Epoch: 0026 cost= 2.808115716\n",
      "Epoch: 0027 cost= 2.427668705\n",
      "Epoch: 0028 cost= 2.187976044\n",
      "Epoch: 0029 cost= 1.994007990\n",
      "Epoch: 0030 cost= 2.182865797\n",
      "Epoch: 0031 cost= 1.909010120\n",
      "Epoch: 0032 cost= 1.644456389\n",
      "Epoch: 0033 cost= 2.027595317\n",
      "Epoch: 0034 cost= 1.574618207\n",
      "Epoch: 0035 cost= 1.341240444\n",
      "Epoch: 0036 cost= 1.448604215\n",
      "Epoch: 0037 cost= 1.539782290\n",
      "Epoch: 0038 cost= 1.371522809\n",
      "Epoch: 0039 cost= 1.266875405\n",
      "Epoch: 0040 cost= 1.215893294\n",
      "Epoch: 0041 cost= 0.916586773\n",
      "Epoch: 0042 cost= 1.093212824\n",
      "Epoch: 0043 cost= 1.288075718\n",
      "Epoch: 0044 cost= 1.041984087\n",
      "Epoch: 0045 cost= 0.713760991\n",
      "Epoch: 0046 cost= 0.773545033\n",
      "Epoch: 0047 cost= 0.855657026\n",
      "Epoch: 0048 cost= 0.914503218\n",
      "Epoch: 0049 cost= 0.819455729\n",
      "Epoch: 0050 cost= 0.737717363\n",
      "Epoch: 0051 cost= 0.693877363\n",
      "Epoch: 0052 cost= 0.558006277\n",
      "Epoch: 0053 cost= 0.657101778\n",
      "Epoch: 0054 cost= 0.608070918\n",
      "Epoch: 0055 cost= 0.665338250\n",
      "Epoch: 0056 cost= 0.487164423\n",
      "Epoch: 0057 cost= 0.499384636\n",
      "Epoch: 0058 cost= 0.417588220\n",
      "Epoch: 0059 cost= 0.496351095\n",
      "Epoch: 0060 cost= 0.553822043\n",
      "Epoch: 0061 cost= 0.433717270\n",
      "Epoch: 0062 cost= 0.358853584\n",
      "Epoch: 0063 cost= 0.395721364\n",
      "Epoch: 0064 cost= 0.416529171\n",
      "Epoch: 0065 cost= 0.313038622\n",
      "Epoch: 0066 cost= 0.378131208\n",
      "Epoch: 0067 cost= 0.182569908\n",
      "Epoch: 0068 cost= 0.283222805\n",
      "Epoch: 0069 cost= 0.273369903\n",
      "Epoch: 0070 cost= 0.304327300\n",
      "Epoch: 0071 cost= 0.329852967\n",
      "Epoch: 0072 cost= 0.259328344\n",
      "Epoch: 0073 cost= 0.190560621\n",
      "Epoch: 0074 cost= 0.237003728\n",
      "Epoch: 0075 cost= 0.202705845\n",
      "Epoch: 0076 cost= 0.216561911\n",
      "Epoch: 0077 cost= 0.254399115\n",
      "Epoch: 0078 cost= 0.165276233\n",
      "Epoch: 0079 cost= 0.169544764\n",
      "Epoch: 0080 cost= 0.192430339\n",
      "Epoch: 0081 cost= 0.248759141\n",
      "Epoch: 0082 cost= 0.191404709\n",
      "Epoch: 0083 cost= 0.186678057\n",
      "Epoch: 0084 cost= 0.155714316\n",
      "Epoch: 0085 cost= 0.107239100\n",
      "Epoch: 0086 cost= 0.189494407\n",
      "Epoch: 0087 cost= 0.144931069\n",
      "Epoch: 0088 cost= 0.178824373\n",
      "Epoch: 0089 cost= 0.099904080\n",
      "Epoch: 0090 cost= 0.076279207\n",
      "Epoch: 0091 cost= 0.056546210\n",
      "Epoch: 0092 cost= 0.168103006\n",
      "Epoch: 0093 cost= 0.159206276\n",
      "Epoch: 0094 cost= 0.112134664\n",
      "Epoch: 0095 cost= 0.087191524\n",
      "Epoch: 0096 cost= 0.094286026\n",
      "Epoch: 0097 cost= 0.118514578\n",
      "Epoch: 0098 cost= 0.089320543\n",
      "Epoch: 0099 cost= 0.141592914\n",
      "Epoch: 0100 cost= 0.101450808\n",
      "First Optimization Finished!\n"
     ]
    },
    {
     "ename": "NameError",
     "evalue": "name 'y' is not defined",
     "output_type": "error",
     "traceback": [
      "\u001b[0;31m---------------------------------------------------------------------------\u001b[0m",
      "\u001b[0;31mNameError\u001b[0m                                 Traceback (most recent call last)",
      "\u001b[0;32m<ipython-input-5-c6112e65b811>\u001b[0m in \u001b[0;36m<module>\u001b[0;34m()\u001b[0m\n\u001b[1;32m     15\u001b[0m     \u001b[0mprint\u001b[0m\u001b[0;34m(\u001b[0m\u001b[0;34m\"First Optimization Finished!\"\u001b[0m\u001b[0;34m)\u001b[0m\u001b[0;34m\u001b[0m\u001b[0m\n\u001b[1;32m     16\u001b[0m \u001b[0;34m\u001b[0m\u001b[0m\n\u001b[0;32m---> 17\u001b[0;31m     \u001b[0mcorrect_prediction\u001b[0m \u001b[0;34m=\u001b[0m \u001b[0mtf\u001b[0m\u001b[0;34m.\u001b[0m\u001b[0mequal\u001b[0m\u001b[0;34m(\u001b[0m\u001b[0mtf\u001b[0m\u001b[0;34m.\u001b[0m\u001b[0margmax\u001b[0m\u001b[0;34m(\u001b[0m\u001b[0mpred\u001b[0m\u001b[0;34m,\u001b[0m \u001b[0;36m1\u001b[0m \u001b[0;34m)\u001b[0m\u001b[0;34m,\u001b[0m \u001b[0mtf\u001b[0m\u001b[0;34m.\u001b[0m\u001b[0margmax\u001b[0m\u001b[0;34m(\u001b[0m\u001b[0my\u001b[0m\u001b[0;34m,\u001b[0m\u001b[0;36m1\u001b[0m\u001b[0;34m)\u001b[0m\u001b[0;34m)\u001b[0m\u001b[0;34m\u001b[0m\u001b[0m\n\u001b[0m\u001b[1;32m     18\u001b[0m \u001b[0;34m\u001b[0m\u001b[0m\n\u001b[1;32m     19\u001b[0m     \u001b[0maccuracy\u001b[0m \u001b[0;34m=\u001b[0m \u001b[0mtf\u001b[0m\u001b[0;34m.\u001b[0m\u001b[0mreduce_mean\u001b[0m\u001b[0;34m(\u001b[0m\u001b[0mtf\u001b[0m\u001b[0;34m.\u001b[0m\u001b[0mcast\u001b[0m\u001b[0;34m(\u001b[0m\u001b[0mcorrect_prediction\u001b[0m\u001b[0;34m,\u001b[0m \u001b[0mtf\u001b[0m\u001b[0;34m.\u001b[0m\u001b[0mfloat32\u001b[0m\u001b[0;34m)\u001b[0m\u001b[0;34m)\u001b[0m\u001b[0;34m\u001b[0m\u001b[0m\n",
      "\u001b[0;31mNameError\u001b[0m: name 'y' is not defined"
     ]
    }
   ],
   "source": [
    "with tf.Session() as sess:\n",
    "    sess.run(init)\n",
    "    \n",
    "    for epoch in range(100):\n",
    "        avg_cost = 0.\n",
    "        total_batch = int(mnist.train.num_examples/batch_size)\n",
    "        \n",
    "        for i in range(batch_size):\n",
    "            batch_X, batch_Y  = mnist.train.next_batch(batch_size)\n",
    "            _, c = sess.run([optimizer, cost], feed_dict={X:batch_X, Y:batch_Y})\n",
    "            \n",
    "            avg_cost += c/total_batch\n",
    "        if epoch % display_step == 0:\n",
    "            print( \"Epoch:\", '%04d' % (epoch+1), \"cost=\", \\\n",
    "                \"{:.9f}\".format(avg_cost))\n",
    "    print(\"First Optimization Finished!\")\n",
    "    \n",
    "    correct_prediction = tf.equal(tf.argmax(pred, 1 ), tf.argmax(y,1))\n",
    "    \n",
    "    accuracy = tf.reduce_mean(tf.cast(correct_prediction, tf.float32))\n",
    "    print(\"Accuracy : \"+ str(accuracy.eval({X:mnist.test.images, Y:mnist.test.labels})) )\n",
    "    \n",
    "    save_path = saver.save(sess,model_path)\n",
    "    print(\"Model saved in file : %s\" % save_path)"
   ]
  },
  {
   "cell_type": "code",
   "execution_count": null,
   "metadata": {
    "collapsed": true
   },
   "outputs": [],
   "source": []
  }
 ],
 "metadata": {
  "kernelspec": {
   "display_name": "Python 3",
   "language": "python",
   "name": "python3"
  },
  "language_info": {
   "codemirror_mode": {
    "name": "ipython",
    "version": 3
   },
   "file_extension": ".py",
   "mimetype": "text/x-python",
   "name": "python",
   "nbconvert_exporter": "python",
   "pygments_lexer": "ipython3",
   "version": "3.5.2"
  }
 },
 "nbformat": 4,
 "nbformat_minor": 1
}
